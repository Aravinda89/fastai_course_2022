{
  "metadata": {
    "kernelspec": {
      "language": "python",
      "display_name": "Python 3",
      "name": "python3"
    },
    "language_info": {
      "pygments_lexer": "ipython3",
      "nbconvert_exporter": "python",
      "version": "3.6.4",
      "file_extension": ".py",
      "codemirror_mode": {
        "name": "ipython",
        "version": 3
      },
      "name": "python",
      "mimetype": "text/x-python"
    },
    "colab": {
      "name": "00-is-it-a-bird-creating-a-model-from-your-own-data.ipynb",
      "provenance": [],
      "include_colab_link": true
    }
  },
  "nbformat_minor": 0,
  "nbformat": 4,
  "cells": [
    {
      "cell_type": "markdown",
      "metadata": {
        "id": "view-in-github",
        "colab_type": "text"
      },
      "source": [
        "<a href=\"https://colab.research.google.com/github/Aravinda89/fastai_course_2022/blob/main/00_is_it_a_bird_creating_a_model_from_your_own_data.ipynb\" target=\"_parent\"><img src=\"https://colab.research.google.com/assets/colab-badge.svg\" alt=\"Open In Colab\"/></a>"
      ]
    },
    {
      "cell_type": "markdown",
      "source": [
        "## Is it a bird?"
      ],
      "metadata": {
        "id": "8cSaAOMFbmp4"
      }
    },
    {
      "cell_type": "code",
      "source": [
        "#NB: Kaggle requires phone verification to use the internet or a GPU. If you haven't done that yet, the cell below will fail\n",
        "#    This code is only here to check that your internet is enabled. It doesn't do anything else.\n",
        "#    Here's a help thread on getting your phone number verified: https://www.kaggle.com/product-feedback/135367\n",
        "\n",
        "import socket,warnings\n",
        "try:\n",
        "    socket.setdefaulttimeout(1)\n",
        "    socket.socket(socket.AF_INET, socket.SOCK_STREAM).connect(('1.1.1.1', 53))\n",
        "except socket.error as ex: raise Exception(\"STOP: No internet. Click '>|' in top right and set 'Internet' switch to on\")"
      ],
      "metadata": {
        "execution": {
          "iopub.status.busy": "2022-04-27T00:57:08.222505Z",
          "iopub.execute_input": "2022-04-27T00:57:08.223281Z",
          "iopub.status.idle": "2022-04-27T00:57:08.237722Z",
          "shell.execute_reply.started": "2022-04-27T00:57:08.223237Z",
          "shell.execute_reply": "2022-04-27T00:57:08.237076Z"
        },
        "trusted": true,
        "id": "9lIFr7oKbmp7"
      },
      "execution_count": null,
      "outputs": []
    },
    {
      "cell_type": "code",
      "source": [
        "# It's a good idea to ensure you're running the latest version of any libraries you need.\n",
        "# `!pip install -Uqq <libraries>` upgrades to the latest version of <libraries>\n",
        "# NB: You can safely ignore any warnings or errors pip spits out about running as root or incompatibilities\n",
        "import os\n",
        "iskaggle = os.environ.get('KAGGLE_KERNEL_RUN_TYPE', '')\n",
        "\n",
        "if iskaggle:\n",
        "    !pip install -Uqq fastai"
      ],
      "metadata": {
        "_kg_hide-input": true,
        "_kg_hide-output": true,
        "execution": {
          "iopub.status.busy": "2022-05-03T04:14:43.765091Z",
          "iopub.execute_input": "2022-05-03T04:14:43.765359Z",
          "iopub.status.idle": "2022-05-03T04:14:54.380514Z",
          "shell.execute_reply.started": "2022-05-03T04:14:43.765329Z",
          "shell.execute_reply": "2022-05-03T04:14:54.379685Z"
        },
        "trusted": true,
        "id": "WtUR4pbYbmp_"
      },
      "execution_count": null,
      "outputs": []
    },
    {
      "cell_type": "markdown",
      "source": [
        "In 2015 the idea of creating a computer system that could recognise birds was considered so outrageously challenging that it was the basis of [this XKCD joke](https://xkcd.com/1425/):"
      ],
      "metadata": {
        "id": "V2F3HltvbmqC"
      }
    },
    {
      "cell_type": "markdown",
      "source": [
        "![image.png](attachment:a0483178-c30e-4fdd-b2c2-349e130ab260.png)"
      ],
      "metadata": {
        "id": "IAjDKVyfbmqD"
      }
    },
    {
      "cell_type": "markdown",
      "source": [
        "But today, we can do exactly that, in just a few minutes, using entirely free resources!\n",
        "\n",
        "The basic steps we'll take are:\n",
        "\n",
        "1. Use DuckDuckGo to search for images of \"bird photos\"\n",
        "1. Use DuckDuckGo to search for images of \"forest photos\"\n",
        "1. Fine-tune a pretrained neural network to recognise these two groups\n",
        "1. Try running this model on a picture of a bird and see if it works."
      ],
      "metadata": {
        "id": "CQilqUF3bmqE"
      }
    },
    {
      "cell_type": "markdown",
      "source": [
        "## Step 1: Download images of birds and non-birds"
      ],
      "metadata": {
        "id": "q7b4yUSebmqL"
      }
    },
    {
      "cell_type": "code",
      "source": [
        "from fastcore.all import *\n",
        "import time\n",
        "\n",
        "def search_images(term, max_images=200):\n",
        "    url = 'https://duckduckgo.com/'\n",
        "    res = urlread(url,data={'q':term})\n",
        "    searchObj = re.search(r'vqd=([\\d-]+)\\&', res)\n",
        "    requestUrl = url + 'i.js'\n",
        "    params = dict(l='us-en', o='json', q=term, vqd=searchObj.group(1), f=',,,', p='1', v7exp='a')\n",
        "    urls,data = set(),{'next':1}\n",
        "    while len(urls)<max_images and 'next' in data:\n",
        "        data = urljson(requestUrl,data=params)\n",
        "        urls.update(L(data['results']).itemgot('image'))\n",
        "        requestUrl = url + data['next']\n",
        "        time.sleep(0.2)\n",
        "    return L(urls)[:max_images]"
      ],
      "metadata": {
        "_kg_hide-input": true,
        "execution": {
          "iopub.status.busy": "2022-04-26T09:11:57.744768Z",
          "iopub.execute_input": "2022-04-26T09:11:57.745037Z",
          "iopub.status.idle": "2022-04-26T09:11:57.78719Z",
          "shell.execute_reply.started": "2022-04-26T09:11:57.745007Z",
          "shell.execute_reply": "2022-04-26T09:11:57.786556Z"
        },
        "trusted": true,
        "id": "sK267PfHbmqM"
      },
      "execution_count": null,
      "outputs": []
    },
    {
      "cell_type": "markdown",
      "source": [
        "Let's start by searching for a bird photo and seeing what kind of result we get. We'll start by getting URLs from a search:"
      ],
      "metadata": {
        "id": "jPFz2dePbmqM"
      }
    },
    {
      "cell_type": "code",
      "source": [
        "urls = search_images('bird photos', max_images=1)\n",
        "urls[0]"
      ],
      "metadata": {
        "execution": {
          "iopub.status.busy": "2022-04-26T09:11:58.337717Z",
          "iopub.execute_input": "2022-04-26T09:11:58.338424Z",
          "iopub.status.idle": "2022-04-26T09:11:59.692655Z",
          "shell.execute_reply.started": "2022-04-26T09:11:58.33835Z",
          "shell.execute_reply": "2022-04-26T09:11:59.691938Z"
        },
        "trusted": true,
        "id": "t7Su0tOAbmqN"
      },
      "execution_count": null,
      "outputs": []
    },
    {
      "cell_type": "markdown",
      "source": [
        "...and then download a URL and take a look at it:"
      ],
      "metadata": {
        "id": "PAWUH6gAbmqP"
      }
    },
    {
      "cell_type": "code",
      "source": [
        "from fastdownload import download_url\n",
        "dest = 'bird.jpg'\n",
        "download_url(urls[0], dest, show_progress=False)\n",
        "\n",
        "from fastai.vision.all import *\n",
        "im = Image.open(dest)\n",
        "im.to_thumb(256,256)"
      ],
      "metadata": {
        "execution": {
          "iopub.status.busy": "2022-04-26T09:12:24.818022Z",
          "iopub.execute_input": "2022-04-26T09:12:24.81828Z",
          "iopub.status.idle": "2022-04-26T09:12:27.539774Z",
          "shell.execute_reply.started": "2022-04-26T09:12:24.818251Z",
          "shell.execute_reply": "2022-04-26T09:12:27.539091Z"
        },
        "trusted": true,
        "id": "9PBSf1iEbmqQ"
      },
      "execution_count": null,
      "outputs": []
    },
    {
      "cell_type": "markdown",
      "source": [
        "Now let's do the same with \"forest photos\":"
      ],
      "metadata": {
        "id": "NKirScKjbmqR"
      }
    },
    {
      "cell_type": "code",
      "source": [
        "download_url(search_images('forest photos', max_images=1)[0], 'forest.jpg', show_progress=False)\n",
        "Image.open('forest.jpg').to_thumb(256,256)"
      ],
      "metadata": {
        "execution": {
          "iopub.status.busy": "2022-04-26T09:12:32.972412Z",
          "iopub.execute_input": "2022-04-26T09:12:32.973106Z",
          "iopub.status.idle": "2022-04-26T09:12:35.706096Z",
          "shell.execute_reply.started": "2022-04-26T09:12:32.973071Z",
          "shell.execute_reply": "2022-04-26T09:12:35.705427Z"
        },
        "trusted": true,
        "id": "D9I6SDr8bmqS"
      },
      "execution_count": null,
      "outputs": []
    },
    {
      "cell_type": "markdown",
      "source": [
        "Our searches seem to be giving reasonable results, so let's grab 200 examples of each of \"bird\" and \"forest\" photos, and save each group of photos to a different folder:"
      ],
      "metadata": {
        "id": "mzU7wKxjbmqT"
      }
    },
    {
      "cell_type": "code",
      "source": [
        "searches = 'forest','bird'\n",
        "path = Path('bird_or_not')\n",
        "\n",
        "for o in searches:\n",
        "    dest = (path/o)\n",
        "    dest.mkdir(exist_ok=True, parents=True)\n",
        "    download_images(dest, urls=search_images(f'{o} photo'))\n",
        "    resize_images(path/o, max_size=400, dest=path/o)"
      ],
      "metadata": {
        "execution": {
          "iopub.status.busy": "2022-04-26T09:12:56.484259Z",
          "iopub.execute_input": "2022-04-26T09:12:56.484594Z",
          "iopub.status.idle": "2022-04-26T09:14:22.355318Z",
          "shell.execute_reply.started": "2022-04-26T09:12:56.48456Z",
          "shell.execute_reply": "2022-04-26T09:14:22.354464Z"
        },
        "trusted": true,
        "id": "xS867YU2bmqT"
      },
      "execution_count": null,
      "outputs": []
    },
    {
      "cell_type": "markdown",
      "source": [
        "## Step 2: Train our model"
      ],
      "metadata": {
        "id": "IFqvuI6EbmqU"
      }
    },
    {
      "cell_type": "markdown",
      "source": [
        "Some photos might not download correctly which could cause our model training to fail, so we'll remove them:"
      ],
      "metadata": {
        "id": "AwwKVH1GbmqU"
      }
    },
    {
      "cell_type": "code",
      "source": [
        "failed = verify_images(get_image_files(path))\n",
        "failed.map(Path.unlink)\n",
        "len(failed)"
      ],
      "metadata": {
        "execution": {
          "iopub.status.busy": "2022-04-26T09:15:22.4403Z",
          "iopub.execute_input": "2022-04-26T09:15:22.440963Z",
          "iopub.status.idle": "2022-04-26T09:15:23.213164Z",
          "shell.execute_reply.started": "2022-04-26T09:15:22.440928Z",
          "shell.execute_reply": "2022-04-26T09:15:23.212277Z"
        },
        "trusted": true,
        "id": "giUGziFPbmqV"
      },
      "execution_count": null,
      "outputs": []
    },
    {
      "cell_type": "markdown",
      "source": [
        "To train a model, we'll need `DataLoaders`, which is an object that contains a *training set* (the images used to create a model) and a *validation set* (the images used to check the accuracy of a model -- not used during training). In `fastai` we can create that easily using a `DataBlock`, and view sample images from it:"
      ],
      "metadata": {
        "id": "cIXGI10dbmqV"
      }
    },
    {
      "cell_type": "code",
      "source": [
        "dls = DataBlock(\n",
        "    blocks=(ImageBlock, CategoryBlock), \n",
        "    get_items=get_image_files, \n",
        "    splitter=RandomSplitter(valid_pct=0.2, seed=42),\n",
        "    get_y=parent_label,\n",
        "    item_tfms=[Resize(192, method='squish')]\n",
        ").dataloaders(path)\n",
        "\n",
        "dls.show_batch(max_n=6)"
      ],
      "metadata": {
        "execution": {
          "iopub.status.busy": "2022-04-26T09:19:49.701335Z",
          "iopub.execute_input": "2022-04-26T09:19:49.70184Z",
          "iopub.status.idle": "2022-04-26T09:19:53.271986Z",
          "shell.execute_reply.started": "2022-04-26T09:19:49.701807Z",
          "shell.execute_reply": "2022-04-26T09:19:53.271316Z"
        },
        "trusted": true,
        "id": "YPUZJygXbmqV"
      },
      "execution_count": null,
      "outputs": []
    },
    {
      "cell_type": "markdown",
      "source": [
        "Here what each of the `DataBlock` parameters means:\n",
        "\n",
        "    blocks=(ImageBlock, CategoryBlock),\n",
        "\n",
        "The inputs to our model are images, and the outputs are categories (in this case, \"bird\" or \"forest\").\n",
        "\n",
        "    get_items=get_image_files, \n",
        "\n",
        "To find all the inputs to our model, run the `get_image_files` function (which returns a list of all image files in a path).\n",
        "\n",
        "    splitter=RandomSplitter(valid_pct=0.2, seed=42),\n",
        "\n",
        "Split the data into training and validation sets randomly, using 20% of the data for the validation set.\n",
        "\n",
        "    get_y=parent_label,\n",
        "\n",
        "The labels (`y` values) is the name of the `parent` of each file (i.e. the name of the folder they're in, which will be *bird* or *forest*).\n",
        "\n",
        "    item_tfms=[Resize(192, method='squish')]\n",
        "\n",
        "Before training, resize each image to 192x192 pixels by \"squishing\" it (as opposed to cropping it)."
      ],
      "metadata": {
        "id": "mGXGS-yBbmqW"
      }
    },
    {
      "cell_type": "markdown",
      "source": [
        "Now we're ready to train our model. The fastest widely used computer vision model is `resnet18`. You can train this in a few minutes, even on a CPU! (On a GPU, it generally takes under 10 seconds...)\n",
        "\n",
        "`fastai` comes with a helpful `fine_tune()` method which automatically uses best practices for fine tuning a pre-trained model, so we'll use that."
      ],
      "metadata": {
        "id": "nNwrQ6r6bmqW"
      }
    },
    {
      "cell_type": "code",
      "source": [
        "learn = vision_learner(dls, resnet18, metrics=error_rate)\n",
        "learn.fine_tune(3)"
      ],
      "metadata": {
        "execution": {
          "iopub.status.busy": "2022-04-26T09:23:43.887451Z",
          "iopub.execute_input": "2022-04-26T09:23:43.8881Z",
          "iopub.status.idle": "2022-04-26T09:24:00.536323Z",
          "shell.execute_reply.started": "2022-04-26T09:23:43.888058Z",
          "shell.execute_reply": "2022-04-26T09:24:00.535598Z"
        },
        "trusted": true,
        "id": "YK7uTMxybmqX"
      },
      "execution_count": null,
      "outputs": []
    },
    {
      "cell_type": "markdown",
      "source": [
        "Generally when I run this I see 100% accuracy on the validation set (although it might vary a bit from run to run).\n",
        "\n",
        "\"Fine-tuning\" a model means that we're starting with a model someone else has trained using some other dataset (called the *pretrained model*), and adjusting the weights a little bit so that the model learns to recognise your particular dataset. In this case, the pretrained model was trained to recognise photos in *imagenet*, and widely-used computer vision dataset with images covering 1000 categories) For details on fine-tuning and why it's important, check out the [free fast.ai course](https://course.fast.ai/)."
      ],
      "metadata": {
        "id": "Q0hAwPrKbmqX"
      }
    },
    {
      "cell_type": "markdown",
      "source": [
        "## Step 3: Use our model (and build your own!)"
      ],
      "metadata": {
        "id": "YTWauaNDbmqX"
      }
    },
    {
      "cell_type": "markdown",
      "source": [
        "Let's see what our model thinks about that bird we downloaded at the start:"
      ],
      "metadata": {
        "id": "VNXnt2wlbmqY"
      }
    },
    {
      "cell_type": "code",
      "source": [
        "is_bird,_,probs = learn.predict(PILImage.create('bird.jpg'))\n",
        "print(f\"This is a: {is_bird}.\")\n",
        "print(f\"Probability it's a bird: {probs[0]:.4f}\")"
      ],
      "metadata": {
        "execution": {
          "iopub.status.busy": "2022-04-24T01:12:03.125297Z",
          "iopub.execute_input": "2022-04-24T01:12:03.125561Z",
          "iopub.status.idle": "2022-04-24T01:12:03.369421Z",
          "shell.execute_reply.started": "2022-04-24T01:12:03.125525Z",
          "shell.execute_reply": "2022-04-24T01:12:03.368491Z"
        },
        "trusted": true,
        "id": "T9zqzf_xbmqY"
      },
      "execution_count": null,
      "outputs": []
    },
    {
      "cell_type": "markdown",
      "source": [
        "Good job, resnet18. :)\n",
        "\n",
        "So, as you see, in the space of a few years, creating computer vision classification models has gone from \"so hard it's a joke\" to \"trivially easy and free\"!\n",
        "\n",
        "It's not just in computer vision. Thanks to deep learning, computers can now do many things which seemed impossible just a few years ago, including [creating amazing artworks](https://openai.com/dall-e-2/), and [explaining jokes](https://www.datanami.com/2022/04/22/googles-massive-new-language-model-can-explain-jokes/). It's moving so fast that even experts in the field have trouble predicting how it's going to impact society in the coming years.\n",
        "\n",
        "One thing is clear -- it's important that we all do our best to understand this technology, because otherwise we'll get left behind!"
      ],
      "metadata": {
        "id": "lGH-6PSbbmqY"
      }
    },
    {
      "cell_type": "markdown",
      "source": [
        "Now it's your turn. Click \"Copy & Edit\" and try creating your own image classifier using your own image searches!\n",
        "\n",
        "If you enjoyed this, please consider clicking the \"upvote\" button in the top-right -- it's very encouraging to us notebook authors to know when people appreciate our work."
      ],
      "metadata": {
        "id": "020Fm7q_bmqZ"
      }
    }
  ]
}