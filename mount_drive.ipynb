{
  "nbformat": 4,
  "nbformat_minor": 0,
  "metadata": {
    "colab": {
      "name": "mount_drive.ipynb",
      "provenance": [],
      "authorship_tag": "ABX9TyNb0NuQusvw0/EwRgHQDwWw",
      "include_colab_link": true
    },
    "kernelspec": {
      "name": "python3",
      "display_name": "Python 3"
    },
    "language_info": {
      "name": "python"
    }
  },
  "cells": [
    {
      "cell_type": "markdown",
      "metadata": {
        "id": "view-in-github",
        "colab_type": "text"
      },
      "source": [
        "<a href=\"https://colab.research.google.com/github/Aravinda89/fastai_course_2022/blob/main/mount_drive.ipynb\" target=\"_parent\"><img src=\"https://colab.research.google.com/assets/colab-badge.svg\" alt=\"Open In Colab\"/></a>"
      ]
    },
    {
      "cell_type": "code",
      "execution_count": null,
      "metadata": {
        "id": "8M5EgOQ5kj04"
      },
      "outputs": [],
      "source": [
        "from google.colab import drive"
      ]
    },
    {
      "cell_type": "code",
      "source": [
        "drive.mount(\"/content/gdrive\", force_remount=True)"
      ],
      "metadata": {
        "colab": {
          "base_uri": "https://localhost:8080/"
        },
        "id": "tYnrGLzCklc_",
        "outputId": "e6abc340-ce27-4ece-d9a5-e03629662b82"
      },
      "execution_count": null,
      "outputs": [
        {
          "output_type": "stream",
          "name": "stdout",
          "text": [
            "Mounted at /content/gdrive\n"
          ]
        }
      ]
    },
    {
      "cell_type": "code",
      "source": [
        "pwd"
      ],
      "metadata": {
        "colab": {
          "base_uri": "https://localhost:8080/",
          "height": 35
        },
        "id": "i4ixerdjkoS_",
        "outputId": "91b15bc7-d740-4e85-e12f-a4fa57b755f8"
      },
      "execution_count": null,
      "outputs": [
        {
          "output_type": "execute_result",
          "data": {
            "text/plain": [
              "'/content'"
            ],
            "application/vnd.google.colaboratory.intrinsic+json": {
              "type": "string"
            }
          },
          "metadata": {},
          "execution_count": 3
        }
      ]
    },
    {
      "cell_type": "code",
      "source": [
        "ls"
      ],
      "metadata": {
        "colab": {
          "base_uri": "https://localhost:8080/"
        },
        "id": "OCZUD0BjkuNm",
        "outputId": "8bbb21a8-f385-47db-afd7-aa818a343cfd"
      },
      "execution_count": null,
      "outputs": [
        {
          "output_type": "stream",
          "name": "stdout",
          "text": [
            "\u001b[0m\u001b[01;34mgdrive\u001b[0m/  \u001b[01;34msample_data\u001b[0m/\n"
          ]
        }
      ]
    },
    {
      "cell_type": "code",
      "source": [
        "cd gdrive"
      ],
      "metadata": {
        "colab": {
          "base_uri": "https://localhost:8080/"
        },
        "id": "CK359_YNkvRX",
        "outputId": "5bbaea41-8c6d-41db-f2db-bbf20ab9a820"
      },
      "execution_count": null,
      "outputs": [
        {
          "output_type": "stream",
          "name": "stdout",
          "text": [
            "/content/gdrive\n"
          ]
        }
      ]
    },
    {
      "cell_type": "code",
      "source": [
        "ls"
      ],
      "metadata": {
        "colab": {
          "base_uri": "https://localhost:8080/"
        },
        "id": "bs9hAgBWk0be",
        "outputId": "47d3c636-91d6-4c6b-d66e-444ed50ed94e"
      },
      "execution_count": null,
      "outputs": [
        {
          "output_type": "stream",
          "name": "stdout",
          "text": [
            "\u001b[0m\u001b[01;34mMyDrive\u001b[0m/\n"
          ]
        }
      ]
    },
    {
      "cell_type": "code",
      "source": [
        "cd MyDrive"
      ],
      "metadata": {
        "colab": {
          "base_uri": "https://localhost:8080/"
        },
        "id": "mLGVAMCKk1Je",
        "outputId": "e837b17e-35f4-48d5-8ed2-dcb9b306153b"
      },
      "execution_count": null,
      "outputs": [
        {
          "output_type": "stream",
          "name": "stdout",
          "text": [
            "/content/gdrive/MyDrive\n"
          ]
        }
      ]
    },
    {
      "cell_type": "code",
      "source": [
        "ls"
      ],
      "metadata": {
        "colab": {
          "base_uri": "https://localhost:8080/"
        },
        "id": "nyy9ILs9k7HX",
        "outputId": "cdfadad9-a1a0-4a21-c99c-aa3b371fbce2"
      },
      "execution_count": null,
      "outputs": [
        {
          "output_type": "stream",
          "name": "stdout",
          "text": [
            " 2.model_development.gslides\n",
            " 3_car_type.gslides\n",
            " 3_car_type_new.gslides\n",
            "'Aravinda Gayan - Intro to Machine Learning.png'\n",
            " Aravinda_Gayan.pdf\n",
            "'Aravinda Gayan - Python.png'\n",
            " Aravinda_Gayan_resume_ENG.docx\n",
            " Aravinda_Gayan_resume_final.docx\n",
            " Aravinda_Gayan_resume_finall.pdf\n",
            " \u001b[0m\u001b[01;34maudio_book\u001b[0m/\n",
            " blck.gdoc\n",
            " \u001b[01;34mblock\u001b[0m/\n",
            "'certificate (1).pdf'\n",
            "'certificate (2).pdf'\n",
            "'certificate (3).pdf'\n",
            "'certificate (4).pdf'\n",
            "'certificate (5).pdf'\n",
            "'certificate (6).pdf'\n",
            "'CertificateOfCompletion_Docker for Data Scientists (1).pdf'\n",
            " certificate-of-completion-for-git-and-github.pdf\n",
            "'CertificateOfCompletion_Introduction to Deep Learning with OpenCV.pdf'\n",
            "'CertificateOfCompletion_Python_ Decorators.pdf'\n",
            " certificate.pdf\n",
            " \u001b[01;34mcertificates\u001b[0m/\n",
            " \u001b[01;34mCH\u001b[0m/\n",
            "\u001b[01;34m'Colab Notebooks'\u001b[0m/\n",
            "'Consulting proposal.gslides'\n",
            "'Copy of Satori Litepaper (1).gdoc'\n",
            "'Copy of Satori Litepaper.gdoc'\n",
            " Course_application.gdoc\n",
            " \u001b[01;34mCP\u001b[0m/\n",
            " \u001b[01;34mCV\u001b[0m/\n",
            " \u001b[01;34mdata\u001b[0m/\n",
            " Data_Scientist_resume.docx\n",
            " \u001b[01;34mDataSets\u001b[0m/\n",
            " \u001b[01;34mDeep_Learning_AndrewNG\u001b[0m/\n",
            " download.pdf\n",
            " \u001b[01;34mfastai\u001b[0m/\n",
            "'Gayan PDF.pdf'\n",
            " \u001b[01;34mGTV\u001b[0m/\n",
            " \u001b[01;34mhsk5\u001b[0m/\n",
            " \u001b[01;34mk\u001b[0m/\n",
            " \u001b[01;34mmodels\u001b[0m/\n",
            " \u001b[01;34mmsc\u001b[0m/\n",
            " \u001b[01;34mMSC_final_thesis\u001b[0m/\n",
            " \u001b[01;34mMSC_FINAL_THESIS\u001b[0m/\n",
            " MX-3118NC_20180629_114414-rotated.pdf\n",
            "'New Map.xmind'\n",
            " Nonlinearity.gslides\n",
            " \u001b[01;34mNOTE\u001b[0m/\n",
            " \u001b[01;34mnt\u001b[0m/\n",
            "'Pet resume.gdoc'\n",
            " \u001b[01;34mPhotos\u001b[0m/\n",
            " presentation.gslides\n",
            " \u001b[01;34mPYTHON\u001b[0m/\n",
            "'Resume (1).gdoc'\n",
            "'Resume -  2021.gdoc'\n",
            "'Resume (2).gdoc'\n",
            "'Resume (3).gdoc'\n",
            " Resume.gdoc\n",
            "'social engineering.gslides'\n",
            " \u001b[01;34mSogou\u001b[0m/\n",
            "'template of the thesis (Bachelor).doc'\n",
            " \u001b[01;34mThesis\u001b[0m/\n",
            " \u001b[01;34mThesis_presentation\u001b[0m/\n",
            "'Untitled document (1).gdoc'\n",
            "'Untitled document.gdoc'\n",
            "'Untitled presentation.gslides'\n",
            "\u001b[01;34m'Video Tutorials'\u001b[0m/\n",
            " \u001b[01;34mvisa\u001b[0m/\n",
            " \u001b[01;34mvsa_doc\u001b[0m/\n",
            " w3.gslides\n",
            " w4.gslides\n",
            "'Waste Management using Blockchain Fnl.gslides'\n",
            "'Waste Management using Blockchain.gslides'\n",
            "'Your big idea.gslides'\n",
            " 个人简历-王宪（英文）0818.docx\n",
            " 个人简历-王宪（英文）0818.gdoc\n",
            " \u001b[01;34m扫描\u001b[0m/\n",
            " 晨会模板Gayan_PPT.pptx\n"
          ]
        }
      ]
    },
    {
      "cell_type": "code",
      "source": [
        ""
      ],
      "metadata": {
        "id": "KrJMeLV_k7re"
      },
      "execution_count": null,
      "outputs": []
    }
  ]
}